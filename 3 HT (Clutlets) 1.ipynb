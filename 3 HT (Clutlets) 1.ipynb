{
 "cells": [
  {
   "cell_type": "markdown",
   "id": "2790164c",
   "metadata": {},
   "source": [
    "#  Q1 Clutlets\n"
   ]
  },
  {
   "cell_type": "markdown",
   "id": "753070a1",
   "metadata": {},
   "source": [
    " Problem\n",
    "Is there significant difference in the diameter of the cutlet ?"
   ]
  },
  {
   "cell_type": "code",
   "execution_count": 3,
   "id": "55c017b8",
   "metadata": {},
   "outputs": [],
   "source": [
    "#import the libraries\n",
    "import pandas as pd\n",
    "import scipy \n",
    "import numpy as np\n",
    "from scipy import stats"
   ]
  },
  {
   "cell_type": "code",
   "execution_count": 22,
   "id": "61a871e0",
   "metadata": {},
   "outputs": [],
   "source": [
    "#load the file\n",
    "df=pd.read_csv(\"E:\\\\materials\\\\Assignment\\\\Assignment3\\\\Cutlets.csv\")\n",
    "df"
   ]
  },
  {
   "cell_type": "code",
   "execution_count": 24,
   "id": "83b1896c",
   "metadata": {},
   "outputs": [
    {
     "data": {
      "text/plain": [
       "Unit A    7.019091\n",
       "Unit B    6.964297\n",
       "dtype: float64"
      ]
     },
     "execution_count": 24,
     "metadata": {},
     "output_type": "execute_result"
    }
   ],
   "source": [
    "df.mean()"
   ]
  },
  {
   "cell_type": "code",
   "execution_count": 25,
   "id": "c5df6475",
   "metadata": {},
   "outputs": [
    {
     "data": {
      "text/plain": [
       "Unit A    0.288408\n",
       "Unit B    0.343401\n",
       "dtype: float64"
      ]
     },
     "execution_count": 25,
     "metadata": {},
     "output_type": "execute_result"
    }
   ],
   "source": [
    "df.std()"
   ]
  },
  {
   "cell_type": "code",
   "execution_count": 27,
   "id": "adf719ca",
   "metadata": {},
   "outputs": [
    {
     "data": {
      "text/plain": [
       "Index(['Unit A', 'Unit B'], dtype='object')"
      ]
     },
     "execution_count": 27,
     "metadata": {},
     "output_type": "execute_result"
    }
   ],
   "source": [
    "df.columns"
   ]
  },
  {
   "cell_type": "code",
   "execution_count": 29,
   "id": "9f36dbc8",
   "metadata": {},
   "outputs": [
    {
     "data": {
      "text/plain": [
       "Ttest_relResult(statistic=0.7536787225614314, pvalue=0.4562300768038412)"
      ]
     },
     "execution_count": 29,
     "metadata": {},
     "output_type": "execute_result"
    }
   ],
   "source": [
    "stats.ttest_rel(df['Unit A'],df['Unit B'])\n",
    "#0.45 > α\n",
    "#H0 is accepted.Mean of both unit A and unit B are equal"
   ]
  },
  {
   "cell_type": "code",
   "execution_count": 37,
   "id": "c59eebff",
   "metadata": {},
   "outputs": [
    {
     "data": {
      "text/plain": [
       "ShapiroResult(statistic=0.9649458527565002, pvalue=0.3199819028377533)"
      ]
     },
     "execution_count": 37,
     "metadata": {},
     "output_type": "execute_result"
    }
   ],
   "source": [
    "stats.shapiro(df['Unit A'])\n",
    "#0.32 > α"
   ]
  },
  {
   "cell_type": "code",
   "execution_count": 38,
   "id": "28f3172d",
   "metadata": {},
   "outputs": [
    {
     "data": {
      "text/plain": [
       "ShapiroResult(statistic=0.9727300405502319, pvalue=0.5224985480308533)"
      ]
     },
     "execution_count": 38,
     "metadata": {},
     "output_type": "execute_result"
    }
   ],
   "source": [
    "stats.shapiro(df[\"Unit B\"])\n",
    "#0.52 > α\n",
    "#HO is accepted. Thats is both unit a and unit b are normal"
   ]
  },
  {
   "cell_type": "markdown",
   "id": "4f8ebc34",
   "metadata": {},
   "source": [
    "# accept null hypoththesis\n"
   ]
  }
 ],
 "metadata": {
  "kernelspec": {
   "display_name": "Python 3",
   "language": "python",
   "name": "python3"
  },
  "language_info": {
   "codemirror_mode": {
    "name": "ipython",
    "version": 3
   },
   "file_extension": ".py",
   "mimetype": "text/x-python",
   "name": "python",
   "nbconvert_exporter": "python",
   "pygments_lexer": "ipython3",
   "version": "3.8.8"
  },
  "toc": {
   "base_numbering": 1,
   "nav_menu": {},
   "number_sections": true,
   "sideBar": true,
   "skip_h1_title": false,
   "title_cell": "Table of Contents",
   "title_sidebar": "Contents",
   "toc_cell": false,
   "toc_position": {},
   "toc_section_display": true,
   "toc_window_display": false
  }
 },
 "nbformat": 4,
 "nbformat_minor": 5
}
