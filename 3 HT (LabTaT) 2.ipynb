{
 "cells": [
  {
   "cell_type": "markdown",
   "id": "64dbc57f",
   "metadata": {},
   "source": [
    "### Problem Is there a significant difference in the average Turn Around Time between laboratories ?"
   ]
  },
  {
   "cell_type": "code",
   "execution_count": 1,
   "id": "ebc3780f",
   "metadata": {},
   "outputs": [],
   "source": [
    "#import the libraries\n",
    "import pandas as pd\n",
    "import scipy \n",
    "import numpy as np\n",
    "from scipy import stats"
   ]
  },
  {
   "cell_type": "code",
   "execution_count": 2,
   "id": "f4ec1d36",
   "metadata": {},
   "outputs": [],
   "source": [
    "df=pd.read_csv(\"E:\\materials\\Assignment\\Assignment3\\\\LabTAT.csv\")"
   ]
  },
  {
   "cell_type": "code",
   "execution_count": 3,
   "id": "3c67a11e",
   "metadata": {},
   "outputs": [
    {
     "data": {
      "text/plain": [
       "Index(['Laboratory 1', 'Laboratory 2', 'Laboratory 3', 'Laboratory 4'], dtype='object')"
      ]
     },
     "execution_count": 3,
     "metadata": {},
     "output_type": "execute_result"
    }
   ],
   "source": [
    "df.columns"
   ]
  },
  {
   "cell_type": "code",
   "execution_count": 4,
   "id": "2ba9a121",
   "metadata": {},
   "outputs": [
    {
     "data": {
      "text/plain": [
       "ShapiroResult(statistic=0.9901824593544006, pvalue=0.5506953597068787)"
      ]
     },
     "execution_count": 4,
     "metadata": {},
     "output_type": "execute_result"
    }
   ],
   "source": [
    "#test\n",
    "stats.shapiro(df['Laboratory 1'])"
   ]
  },
  {
   "cell_type": "code",
   "execution_count": 5,
   "id": "bf5ba97b",
   "metadata": {},
   "outputs": [
    {
     "data": {
      "text/plain": [
       "ShapiroResult(statistic=0.9936322569847107, pvalue=0.8637524843215942)"
      ]
     },
     "execution_count": 5,
     "metadata": {},
     "output_type": "execute_result"
    }
   ],
   "source": [
    "stats.shapiro(df['Laboratory 2'])"
   ]
  },
  {
   "cell_type": "code",
   "execution_count": 6,
   "id": "01cbdaec",
   "metadata": {},
   "outputs": [
    {
     "data": {
      "text/plain": [
       "ShapiroResult(statistic=0.9886345267295837, pvalue=0.4205053448677063)"
      ]
     },
     "execution_count": 6,
     "metadata": {},
     "output_type": "execute_result"
    }
   ],
   "source": [
    "stats.shapiro(df['Laboratory 3'])"
   ]
  },
  {
   "cell_type": "code",
   "execution_count": 7,
   "id": "1971ffe5",
   "metadata": {},
   "outputs": [
    {
     "data": {
      "text/plain": [
       "ShapiroResult(statistic=0.9913753271102905, pvalue=0.6618951559066772)"
      ]
     },
     "execution_count": 7,
     "metadata": {},
     "output_type": "execute_result"
    }
   ],
   "source": [
    "stats.shapiro(df['Laboratory 4'])"
   ]
  },
  {
   "cell_type": "code",
   "execution_count": 8,
   "id": "e1a9da71",
   "metadata": {},
   "outputs": [],
   "source": [
    "#H0 = L1, L2, L3 and L4 are normal\n",
    "#HO is accepted.\n"
   ]
  },
  {
   "cell_type": "markdown",
   "id": "747e36ce",
   "metadata": {},
   "source": [
    "## Variance"
   ]
  },
  {
   "cell_type": "code",
   "execution_count": 9,
   "id": "bbbda89e",
   "metadata": {},
   "outputs": [],
   "source": [
    "# H0 == Variance of all laboratories are the same H1 == Variance of all laboratories are the not same"
   ]
  },
  {
   "cell_type": "code",
   "execution_count": 10,
   "id": "b23e7bb9",
   "metadata": {},
   "outputs": [
    {
     "data": {
      "text/plain": [
       "LeveneResult(statistic=2.599642500418024, pvalue=0.05161343808309816)"
      ]
     },
     "execution_count": 10,
     "metadata": {},
     "output_type": "execute_result"
    }
   ],
   "source": [
    "stats.levene(df[\"Laboratory 1\"], df[\"Laboratory 2\"], df[\"Laboratory 3\"], df[\"Laboratory 4\"])"
   ]
  },
  {
   "cell_type": "code",
   "execution_count": 11,
   "id": "20c6a3e9",
   "metadata": {},
   "outputs": [],
   "source": [
    "#P Value of Variance test is == 0.051 > α\n",
    "\n",
    "#H0 is accepted Thus we will perform one way Anova Test\n",
    "\n",
    "#Anova test H0 == Mean TAT for 4 laboratories equal H1 == Mean TAT for 4 laboratories not equal"
   ]
  },
  {
   "cell_type": "code",
   "execution_count": 12,
   "id": "4b28cf31",
   "metadata": {},
   "outputs": [
    {
     "data": {
      "text/plain": [
       "F_onewayResult(statistic=118.70421654401437, pvalue=2.1156708949992414e-57)"
      ]
     },
     "execution_count": 12,
     "metadata": {},
     "output_type": "execute_result"
    }
   ],
   "source": [
    "stats.stats.f_oneway(df[\"Laboratory 1\"], df[\"Laboratory 2\"], df[\"Laboratory 3\"], df[\"Laboratory 4\"])"
   ]
  },
  {
   "cell_type": "code",
   "execution_count": 13,
   "id": "9dcb5b55",
   "metadata": {},
   "outputs": [],
   "source": [
    "#P value of the One way Anova test is == 2e-16 < α\n",
    "\n",
    "#Thus H1 is accepted. Mean TAT for 4 laboratories not equal"
   ]
  },
  {
   "cell_type": "markdown",
   "id": "d0b1cbf4",
   "metadata": {},
   "source": [
    "H1 is accepted. Mean TAT for 4 laboratories not equal"
   ]
  },
  {
   "cell_type": "code",
   "execution_count": null,
   "id": "94198047",
   "metadata": {},
   "outputs": [],
   "source": []
  }
 ],
 "metadata": {
  "kernelspec": {
   "display_name": "Python 3",
   "language": "python",
   "name": "python3"
  },
  "language_info": {
   "codemirror_mode": {
    "name": "ipython",
    "version": 3
   },
   "file_extension": ".py",
   "mimetype": "text/x-python",
   "name": "python",
   "nbconvert_exporter": "python",
   "pygments_lexer": "ipython3",
   "version": "3.8.8"
  },
  "toc": {
   "base_numbering": 1,
   "nav_menu": {},
   "number_sections": true,
   "sideBar": true,
   "skip_h1_title": false,
   "title_cell": "Table of Contents",
   "title_sidebar": "Contents",
   "toc_cell": false,
   "toc_position": {},
   "toc_section_display": true,
   "toc_window_display": false
  }
 },
 "nbformat": 4,
 "nbformat_minor": 5
}
